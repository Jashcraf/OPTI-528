{
 "cells": [
  {
   "cell_type": "code",
   "execution_count": 27,
   "metadata": {},
   "outputs": [],
   "source": [
    "import numpy as np\n",
    "import matplotlib.pyplot as plt\n",
    "# BUG CHARLOTTE"
   ]
  },
  {
   "cell_type": "markdown",
   "metadata": {},
   "source": [
    "# Problem 1: SNR\n",
    "Background: You are looking for a suspected lurker: a small satellite sneaking up on a much larger communications satellite in geosynchronous earth orbit (GEO). The glare from the GEO satellite overpowers the smaller as it gets close.  \n",
    "\n",
    "Given: Your camera will use a V-band filter with a bandpass of 80nm, as satellites reflect sunlight which is brightest in the visible. The sunlight reflecting off the GEO satellite appears at magnitude 17 per m2 in the V-band. The lurker is estimated to be the size of a basketball, therefore not very bright. The sky is very dark, but the glare from the GEO causes the background to be magnitude 14 per arcsec2. The overall detection efficiency of your telescope and camera is 25%. You can ignore read noise for now. \n",
    "\n",
    "---\n",
    "\n",
    "A brief review of radiometric quantities in astronomy:\n",
    "- [F] = photon/m^2/s\n",
    "- [B] = photon/m^2/s/arcsec^2\n",
    "- [$\\Omega$] = arcsec^2\n"
   ]
  },
  {
   "cell_type": "markdown",
   "metadata": {},
   "source": [
    "## a. How bright (in magnitude) do you estimate the lurker to be?\n",
    "\n",
    "I'm assuming that we are being asked for the total apparent brightness of the lurker, including the signal scattered and reflected by the GEO sattelite. We can arrrive at units of magnitude for the GEO by approximating the cross-sectional area of the GEO to be the squared diameter of a basketball (75cm, source: <https://www.spalding.com.au/basketball-size-guide>)\n",
    "\n",
    "$$A_{GEO} = 0.5625m^{2}$$\n",
    "$$m_{v,GEO} = 17*A_{GEO} = 9.5625$$\n",
    "\n",
    "Conversion must also be done for the background magnitude per arcsec2. We aren't given the solid angle of the GEO, so we must calculate it with the distance to the sattelite. A geosynchronous sattelite has (apparently) a constant altitude of 35,786km (source: https://en.wikipedia.org/wiki/Geosynchronous_orbit) For the basketball diameter above, the equivalent solid angle is:\n",
    "\n",
    "$$\\Omega_{GEO} = \\frac{A_{GEO}}{(35786km)^2} = 4.39234264e-16 steradians$$\n",
    "\n",
    "In arcseconds, 1 $\\Omega$ = $4.25 x 10^{10}$ arcsec2.\n",
    "\n",
    "$$\\Omega_{GEO} = 4.39234264e-16 * 4.25e10 = 1.86575e-5 arcsec^2$$\n",
    "\n",
    "This corresponds to a magnitude of:\n",
    "\n",
    "$$m_{v,back} = (14 arcsec^{-2}) \\Omega_{GEO} = 0.000261205$$\n",
    "\n",
    "Both must be converted to flux, and then summed on the detector. The remaining calculations are done in the cell below.\n",
    "\n",
    "$$F_{v,GEO} = F_{0}*10^{m_{v,GEO}/(-2.5)}$$\n",
    "$$F_{v,back} = F_{0}*10^{m_{v,back}/(-2.5)} $$"
   ]
  },
  {
   "cell_type": "code",
   "execution_count": 4,
   "metadata": {},
   "outputs": [
    {
     "name": "stdout",
     "output_type": "stream",
     "text": [
      "GEO Flux =  14917469.491261495\n",
      "Background Flux =  99676017189.03244\n",
      "Flux through detector =  24922733664.630924\n",
      "apparent v magnitude of GEO =  1.5052487046684528\n"
     ]
    }
   ],
   "source": [
    "F0 = 9.97e10 # zero mag flux in v band\n",
    "mgeo = 9.5625 # v magnitude of GEO\n",
    "mbak = 0.000261205 # v magnitude of background\n",
    "QE = 0.25 # detector quantum efficiency\n",
    "\n",
    "Fgeo = F0*10**(mgeo/-2.5)\n",
    "Fbak = F0*10**(mbak/-2.5)\n",
    "print('GEO Flux = ',Fgeo)\n",
    "print('Background Flux = ',Fbak)\n",
    "\n",
    "Ftot = (Fgeo+Fbak)*QE\n",
    "print('Flux through detector = ',Ftot)\n",
    "\n",
    "mtot = -2.5*np.log10(Ftot/F0)\n",
    "print('apparent v magnitude of GEO = ',mtot)"
   ]
  },
  {
   "cell_type": "markdown",
   "metadata": {},
   "source": [
    "## b. What exposure time would you need on your camera to achieve an SNR of 3 if you use a 1.0m telescope for your observation, with no AO system. Give the equation for SNR in your answer\n",
    "\n",
    "The SNR equation (ignoring read noise) is given by:\n",
    "$$ SNR = \\frac{FAt}{\\sqrt{FAt + BAt\\Omega}} $$\n",
    "\n",
    "Solving this for the integration time term yields:\n",
    "$$ t = (\\frac{SNR\\sqrt{FA + BA\\Omega}}{FA})^2$$"
   ]
  },
  {
   "cell_type": "code",
   "execution_count": 4,
   "metadata": {},
   "outputs": [],
   "source": [
    "SNR = 3\n",
    "A = np.pi*(1)**2 # telescope area\n",
    "O =  1.865e-5 # solid angle in as2\n",
    "QE = 0.25 # Quantum Efficiency"
   ]
  },
  {
   "cell_type": "markdown",
   "metadata": {},
   "source": [
    "## c. How confident are you in your measurement if you don’t detect a lurker? A detection at SNR of 3 means the signal is 3 standard deviations above the noise level. "
   ]
  },
  {
   "cell_type": "markdown",
   "metadata": {},
   "source": [
    "## d.\tWith an AO system running, what parameter(s) change in your SNR calculation and what integration time is needed to reach a detection with an SNR of 5? "
   ]
  },
  {
   "cell_type": "markdown",
   "metadata": {},
   "source": [
    "## e.\tRepeat the observation on a 3m telescope with an AO system. What integration time would you need for an SNR of 5? "
   ]
  },
  {
   "cell_type": "markdown",
   "metadata": {},
   "source": [
    "# Problem 2: Read Noise\n",
    "Background: Camera sensors make the detection of faint sources difficult because of the presence of read noise. Every time the electronics read a pixel, the value has an uncertainty based on thermal processes in the semiconductor material. This noise is quantified as the standard deviation of the measured signal in electrons. Since each detected photon gives a single electron, read noise can be thought of as an uncertainty in the number of photons detected.\n",
    "\n",
    "Given: A point source of magnitude 22 is against a sky background of magnitude of 20 per arcsec2. The detector has read noise of 3 electrons rms.\n"
   ]
  },
  {
   "cell_type": "markdown",
   "metadata": {},
   "source": [
    "## a.\tIf a source is spread over a square of NxN pixels, what is the standard deviation of the read noise?\n",
    "Hint: Noise is a random process. Each time a pixel is read, the uncertainty is uncorrelated with every other pixel readout. How do the standard deviations of two (or more) statistically independent random variables combine?\n"
   ]
  },
  {
   "cell_type": "code",
   "execution_count": null,
   "metadata": {},
   "outputs": [],
   "source": [
    "R = 3\n",
    "N = 1024 # npix in one dimension (example)\n",
    "Rtot = 3*N**2"
   ]
  },
  {
   "cell_type": "markdown",
   "metadata": {},
   "source": [
    "## b.\tWhat is the required integration time for a sensor with non-zero read noise to yield a detection with given SNR? Your answer should be an equation. "
   ]
  },
  {
   "cell_type": "markdown",
   "metadata": {},
   "source": [
    "$$SNR^{2}(FAt + BAt\\Omega + nR^{2}) = (FA)^2t^2$$\n",
    "$$(FA)^2t^2 - SNR^2(FA+BA\\Omega)t - SNR^2nR^2 = 0$$\n",
    "$$t = \\frac{-SNR^2(FA+BA\\Omega)\\pm\\sqrt{SNR^4(FA+BA\\Omega)^2 - 4((FA)^2)(SNR^2nR^2)}}{2(FA)^2}$$"
   ]
  },
  {
   "cell_type": "markdown",
   "metadata": {},
   "source": [
    "## c.\tWhat is the angular subtense of a pixel on the sky needed to make the lowest noise detection of this source on a 1.0m telescope with AO?\n",
    "\n",
    "Sampling at half the nyquist limit will yield the lowest noise contribution without loosing information in our image. Assuming $\\lambda = 0.545\\mu m$\n",
    "\n",
    "$$\\Theta = \\frac{\\lambda}{2D} = 0.545e-6 radians = 0.056 arcsec$$"
   ]
  },
  {
   "cell_type": "markdown",
   "metadata": {},
   "source": [
    "## d.\tGiven this angular pixel scale, with the AO running, what is the integration time to reach an SNR of 5? Assume we need N=5 pixels to capture the whole source. \n",
    "\n",
    "I'm going to assume our magnitude is given in the v-band, so I will be using the zero point flux of $F_{0} = 9.97e10$"
   ]
  },
  {
   "cell_type": "code",
   "execution_count": 46,
   "metadata": {},
   "outputs": [
    {
     "name": "stdout",
     "output_type": "stream",
     "text": [
      "142079.5715368936\n"
     ]
    }
   ],
   "source": [
    "F0 = 9.97e10\n",
    "msrc = 22\n",
    "mbak = 20*(0.056)\n",
    "Fsrc = F0*10**(msrc/(-2.5))\n",
    "Fbak = F0*10**(mbak/(-2.5))\n",
    "SA = 0.056**2 # nyquist limit squared with AO\n",
    "R = 3\n",
    "n = 5**2\n",
    "SNR = 5\n",
    "A = np.pi*(0.5)**2\n",
    "t = (SNR**2 *(Fsrc*A + Fbak*A*SA)+(np.sqrt((SNR**2 *(Fsrc*A + Fbak*A*SA))**2 - (4*(Fsrc*A)**2 *(SNR**2 * n * R**2)))))/(2*(Fsrc*A)**2)\n",
    "print(t)"
   ]
  },
  {
   "cell_type": "markdown",
   "metadata": {},
   "source": [
    "## e.\tWithout the AO system, the PSF will blur. Without changing the pixel’s angular scale, how many are needed to capture the whole source? "
   ]
  },
  {
   "cell_type": "markdown",
   "metadata": {},
   "source": [
    "## f.\tIncluding these pixels, what is the integration time to reach an SNR of 5 now? "
   ]
  },
  {
   "cell_type": "markdown",
   "metadata": {},
   "source": [
    "# Problem 3: Atmosphere Characterization\n",
    "Background: To accurately design a laser-guided AO system for a telescope, a site survey must be conducted to establish atmospheric characteristics. There are the Cn2 profile as well as the wind speed profile, both a function of height above the ground.  Use weighted path integrals of the Cn2 profile with respect to various quantities. For example, the jth weighted integral of Cn2 with respect to height h is given in the following equation:\n",
    "$$ \\int_{0}^{\\infty} C_{n}^{2} h^{j} dh $$\n",
    "Assume the Cn2 profile also obeys the Hufnagel-Valley form. Wind speed is given by the following formula, described as a Bufton wind profile:\n",
    "$$ v(h) = v(0) + v(h_{trop})exp[-(\\frac{h-h_{trop}}{s})^2] $$\n",
    "\n",
    "Given: The following values should be used to establish the atmospheric characteristics.\n",
    "- Cn2(0) = 10e-16 m e-2/3\tGround Cn2\n",
    "- v(0) = 5 m/s\t\tGround wind speed\n",
    "- htrop = 9400 m\t\tHeight of the tropopause\n",
    "- s = 4800 m\t\tScale height of the tropopause\n",
    "- v(htrop) = 15 m/s\tWind speed at the tropopause\n",
    "\n",
    "\n"
   ]
  },
  {
   "cell_type": "markdown",
   "metadata": {},
   "source": [
    "## a.\tCalculate and plot the wind speed profile from the ground to 20km. "
   ]
  },
  {
   "cell_type": "code",
   "execution_count": null,
   "metadata": {},
   "outputs": [],
   "source": [
    "cn2 = 10e-16 # m^(-2/3)\n",
    "v0 = 5 # m/s ground speed\n"
   ]
  },
  {
   "cell_type": "markdown",
   "metadata": {},
   "source": [
    "## b.\tWhat is the peak wind speed? "
   ]
  },
  {
   "cell_type": "markdown",
   "metadata": {},
   "source": [
    "## c.\tCalculate and plot the Cn2 profile. Make the x-axis logarithmic.\n",
    "Note: You will need the peak wind speed in the tropopause for this. It sets the strength of turbulence in the high-altitude shear layer. \n"
   ]
  },
  {
   "cell_type": "markdown",
   "metadata": {},
   "source": [
    "## d.\tCalculate r0 at a wavelength of 500 nm. "
   ]
  },
  {
   "cell_type": "markdown",
   "metadata": {},
   "source": [
    "## e.\tCalculate the mean wind speed from the 5/3 weighted integral of Cn2 with respect to v(h) normalized by the integral of Cn2. "
   ]
  },
  {
   "cell_type": "markdown",
   "metadata": {},
   "source": [
    "## f.\tCalculate the mean height from the normalized 5/3 weighted integral of Cn2 with respect to h. "
   ]
  },
  {
   "cell_type": "markdown",
   "metadata": {},
   "source": [
    "## g.\tUsing the mean wind speed and mean height, calculate the isoplanatic angle $\\theta_o$ in arcseconds. "
   ]
  },
  {
   "cell_type": "markdown",
   "metadata": {},
   "source": [
    "## h.\tCalculate the atmospheric time constant $\\tau_o$ "
   ]
  },
  {
   "cell_type": "markdown",
   "metadata": {},
   "source": [
    "# Problem 4: PSF Behavior \n",
    "The following problem will compute the point-spread function (PSF) for an aberrated and unaberrated circular aperture. Run the following commands before starting to initialize the same random number generator. \n",
    "\n",
    "Matlab: >>rng(101);\n",
    "Python: >>numpy.random.seed(86)\n",
    "\n",
    "Begin by creating a circular aperture as a 2-D array. Make the array size 1024x1024 pixels and the aperture diameter 256 pixels. The aperture should look like the following image:\n"
   ]
  },
  {
   "cell_type": "code",
   "execution_count": 7,
   "metadata": {},
   "outputs": [
    {
     "data": {
      "text/plain": [
       "<matplotlib.image.AxesImage at 0x235446e8308>"
      ]
     },
     "execution_count": 7,
     "metadata": {},
     "output_type": "execute_result"
    },
    {
     "data": {
      "image/png": "[encoded data removed]",
      "text/plain": [
       "<Figure size 432x288 with 1 Axes>"
      ]
     },
     "metadata": {
      "needs_background": "light"
     },
     "output_type": "display_data"
    }
   ],
   "source": [
    "## CREATE CIRCULAR APERTURE\n",
    "\n",
    "ap = np.zeros((1024,1024),dtype='float')\n",
    "for xind in range(1024):\n",
    "    for yind in range(1024):\n",
    "        \n",
    "        if np.sqrt((xind-512)**2+(yind-512)**2) <= 128:\n",
    "            \n",
    "            ap[xind,yind] = 1\n",
    "            \n",
    "plt.imshow(ap)"
   ]
  },
  {
   "cell_type": "code",
   "execution_count": null,
   "metadata": {},
   "outputs": [],
   "source": [
    "#!/usr/bin/env python3\n",
    "# -*- coding: utf-8 -*-\n",
    "\"\"\"\n",
    "Created on Mon Aug 31 11:31:50 2020\n",
    "\n",
    "@author: Charlotte E. Guthery\n",
    "\n",
    "\"\"\"\n",
    "def kolphaseClass(s):\n",
    "    #phase=kolphaseClass(s)\n",
    "    # Returns a random Kolmogorov phase screen of dimension s x s computed \n",
    "    # from the FT of random complex numbers with appropriate amplitudes. \n",
    "    # Screens are computed on a grid of size 2s, with a s x s piece cut out. \n",
    "    # This helps overcome the problem with this techniqe of under-representing \n",
    "    # tilt. Tandom tilts are also explicity added to give a reasonable \n",
    "    # approximation of the overall Kolmogorav structure function on all scales.\n",
    "    \n",
    "    import numpy as np\n",
    "    import matplotlib.pyplot as plt\n",
    "    \n",
    "    ph=np.zeros([s,s,2]) #initialize phase variable\n",
    "    [x,y]=np.meshgrid(range(-s,s),range(-s,s))\n",
    "    r=np.sqrt(np.multiply(x,x)+np.multiply(y,y)) #make a radial ordinate\n",
    "    \n",
    "    f1=np.random.randn(2*s,2*s) #make two sets of gaussian random numbers\n",
    "    f2=np.random.randn(2*s,2*s)\n",
    "\n",
    "    f=f1+1j*f2 #turn the two random numbers into a complex random number\n",
    "    ps=np.power(r,-11/6) #Kolomogorov power spectrum amplitude\n",
    "    ps[s][s]=0; #setting the centr of the power spectrum (DC term) to zero\n",
    "    \n",
    "    scale=15.2 #this number makes the tilts work out \n",
    "\n",
    "    xt=np.random.randn(2)*(scale/s) #random amplitudes for tip and tilt to \n",
    "    yt=np.random.randn(2)*(scale/s) #mitigate power spectral rolloff at low frequencies \n",
    "\n",
    "    #This has Kolmogorov phases in real and imaginary parts\n",
    "    sc= np.fft.fft2(np.fft.fftshift(np.multiply(np.multiply(np.abs(f),ps),np.exp(1j*np.angle(f))))) \n",
    "\n",
    "    #seperating the real and imaginary parts\n",
    "    ph[:,:,0]=np.real(sc[0:s,0:s])+xt[0]*x[0:s,0:s]+yt[0]*y[0:s,0:s]\n",
    "    ph[:,:,1]=np.real(sc[0:s,0:s])+xt[1]*x[0:s,0:s]+yt[1]*y[0:s,0:s]\n",
    "    \n",
    "    #make the mean phase zero\n",
    "    ph[:,:,0]=ph[:,:,0]-np.mean(ph[:,:,0])\n",
    "    ph[:,:,1]=ph[:,:,1]-np.mean(ph[:,:,1])\n",
    "    \n",
    "    #pick just one of the two phase screens for present purposes scale to \n",
    "    #something that will give reasonable ansewrs on a 1024 grid with 256 pupil\n",
    "    ph=ph[:,:,1]*3\n",
    "    \n",
    "    return ph \n"
   ]
  },
  {
   "cell_type": "markdown",
   "metadata": {},
   "source": [
    "## a.\tCompute the incoherent PSF for this aperture assuming no aberrations. What is the full width half max (FWHM) of the central core in pixels? \n",
    "Note: The best way to do this is to compute an azimuthal average of the PSF. Do not just guess by eye. \n"
   ]
  },
  {
   "cell_type": "code",
   "execution_count": 23,
   "metadata": {},
   "outputs": [
    {
     "data": {
      "text/plain": [
       "<matplotlib.colorbar.Colorbar at 0x23544e53088>"
      ]
     },
     "execution_count": 23,
     "metadata": {},
     "output_type": "execute_result"
    },
    {
     "data": {
      "image/png": "[encoded data removed]",
      "text/plain": [
       "<Figure size 432x288 with 2 Axes>"
      ]
     },
     "metadata": {
      "needs_background": "light"
     },
     "output_type": "display_data"
    }
   ],
   "source": [
    "# a little bit of aliasing is noticeable\n",
    "psf = np.fft.fftshift((np.abs(np.fft.fft2((ap)))))\n",
    "psf = psf/np.max(psf) # normalize the psf by the peak\n",
    "plt.imshow(psf[512-10:512+10,512-10:512+10])\n",
    "plt.colorbar()\n",
    "# [512-40:512+40,512-40:512+40]\n",
    "\n"
   ]
  },
  {
   "cell_type": "code",
   "execution_count": 26,
   "metadata": {},
   "outputs": [
    {
     "data": {
      "image/png": "[encoded data removed]",
      "text/plain": [
       "<Figure size 432x288 with 1 Axes>"
      ]
     },
     "metadata": {
      "needs_background": "light"
     },
     "output_type": "display_data"
    },
    {
     "name": "stdout",
     "output_type": "stream",
     "text": [
      "[0.05343704 0.00397557 0.06813704 0.1246569  0.11969687 0.01917864\n",
      " 0.18145436 0.44951158 0.72188154 0.92490475 1.         0.92490475\n",
      " 0.72188154 0.44951158 0.18145436 0.01917864 0.11969687 0.1246569\n",
      " 0.06813704 0.00397557]\n"
     ]
    }
   ],
   "source": [
    "# find the cross-section\n",
    "slice_psf = psf[512-10:512+10,512]\n",
    "x = np.linspace(0,1,len(slice_psf))\n",
    "plt.plot(x,slice_psf)\n",
    "plt.show()\n",
    "\n",
    "print(slice_psf)"
   ]
  },
  {
   "cell_type": "markdown",
   "metadata": {},
   "source": [
    "## b.\tHow does the width change if you reduce the diameter of the aperture to 128 pixels? Make sure to keep the array at 1024x1024 pixels. "
   ]
  },
  {
   "cell_type": "markdown",
   "metadata": {},
   "source": [
    "## c.\tHow would you expect the width of the PSF to change if the diameter of the aperture were doubled? "
   ]
  },
  {
   "cell_type": "markdown",
   "metadata": {},
   "source": [
    "## d.\tAttach an image of both PSFs. You may need to display only the central portion of the array to see the details. Also include a line plot of the intensities through the brightest pixel. \n",
    "\n",
    "Run the kolphaseClass script to create a 1024x1024 array and assign it to an output variable phi. Use the help function to display the syntax of the routine. \n"
   ]
  },
  {
   "cell_type": "markdown",
   "metadata": {},
   "source": [
    "## e. Attach the resulting image"
   ]
  },
  {
   "cell_type": "markdown",
   "metadata": {},
   "source": [
    "## f.\tCompute the PSF for the 256 pixel aperture with phi as the phase of the electric field. Make sure to model both the amplitude and phase of the electric field. Write down the equation used to compute this PSF. Attach the image of the aberrated PSF"
   ]
  },
  {
   "cell_type": "markdown",
   "metadata": {},
   "source": [
    "## g.\tThe PSF now has a speckled appearance. What is the approximate FWHM of each speckle? "
   ]
  },
  {
   "cell_type": "markdown",
   "metadata": {},
   "source": [
    "## h.\tHow does this compare to the FWHM value from part a? "
   ]
  },
  {
   "cell_type": "markdown",
   "metadata": {},
   "source": [
    "## i.\tCompute an aberrated PSF for 1000 different realizations of phase. Record each phase and corresponding PSF. Find the average PSF of all realizations and attach it. \n",
    "Note: Repeatedly calling kolphaseClass through a for-loop will create a different phase every time. \n"
   ]
  },
  {
   "cell_type": "markdown",
   "metadata": {},
   "source": [
    "## j.\tWhat is the approximate FWHM of the averaged PSF in pixels? "
   ]
  },
  {
   "cell_type": "markdown",
   "metadata": {},
   "source": [
    "## k.\tCalculate the structure function for each of the 1000 different phase realizations. Find the average structure function and calculate the r0 value of this dataset. "
   ]
  },
  {
   "cell_type": "markdown",
   "metadata": {},
   "source": [
    "## l.\tCompute the corresponding Cn2 value. "
   ]
  },
  {
   "cell_type": "code",
   "execution_count": null,
   "metadata": {},
   "outputs": [],
   "source": []
  }
 ],
 "metadata": {
  "kernelspec": {
   "display_name": "Python 3",
   "language": "python",
   "name": "python3"
  },
  "language_info": {
   "codemirror_mode": {
    "name": "ipython",
    "version": 3
   },
   "file_extension": ".py",
   "mimetype": "text/x-python",
   "name": "python",
   "nbconvert_exporter": "python",
   "pygments_lexer": "ipython3",
   "version": "3.7.6"
  }
 },
 "nbformat": 4,
 "nbformat_minor": 4
}
